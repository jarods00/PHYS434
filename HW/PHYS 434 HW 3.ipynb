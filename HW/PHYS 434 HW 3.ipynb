{
 "cells": [
  {
   "cell_type": "code",
   "execution_count": 1,
   "id": "bf68b619-f8e6-4bec-acd0-0255fea39542",
   "metadata": {},
   "outputs": [],
   "source": [
    "import numpy as np\n",
    "import matplotlib\n",
    "import matplotlib.pyplot as plt\n",
    "import scipy\n",
    "from scipy import stats\n",
    "import pandas as pd"
   ]
  },
  {
   "cell_type": "markdown",
   "id": "94bc35d0-7585-4b49-be43-f8a7acdba188",
   "metadata": {},
   "source": [
    "# Problem 1\n",
    "\n",
    "The neural network (NN) makes fewer mistakes- it made 8 overall as opposed to the 12 that the new algorithm (NA) made. However, the NA is the better algorithm for the zoo because calling a bird a person is a more costly mistake than calling a person a bird, and the NA only called 1 bird a person compared to the 3 that the NN did."
   ]
  },
  {
   "cell_type": "code",
   "execution_count": 2,
   "id": "0c7c0223-3414-423d-a012-920026860410",
   "metadata": {},
   "outputs": [
    {
     "name": "stdout",
     "output_type": "stream",
     "text": [
      "New NN Truth Table:\n"
     ]
    },
    {
     "data": {
      "text/html": [
       "<style  type=\"text/css\" >\n",
       "</style><table id=\"T_46294_\" ><thead>    <tr>        <th class=\"blank level0\" ></th>        <th class=\"col_heading level0 col0\" >True Bird</th>        <th class=\"col_heading level0 col1\" >True Person</th>    </tr></thead><tbody>\n",
       "                <tr>\n",
       "                        <th id=\"T_46294_level0_row0\" class=\"row_heading level0 row0\" >NN Bird</th>\n",
       "                        <td id=\"T_46294_row0_col0\" class=\"data row0 col0\" >93</td>\n",
       "                        <td id=\"T_46294_row0_col1\" class=\"data row0 col1\" >0</td>\n",
       "            </tr>\n",
       "            <tr>\n",
       "                        <th id=\"T_46294_level0_row1\" class=\"row_heading level0 row1\" >NN Person</th>\n",
       "                        <td id=\"T_46294_row1_col0\" class=\"data row1 col0\" >6</td>\n",
       "                        <td id=\"T_46294_row1_col1\" class=\"data row1 col1\" >1</td>\n",
       "            </tr>\n",
       "    </tbody></table>"
      ],
      "text/plain": [
       "<pandas.io.formats.style.Styler at 0x7f3ab822c0d0>"
      ]
     },
     "execution_count": 2,
     "metadata": {},
     "output_type": "execute_result"
    }
   ],
   "source": [
    "print(\"New NN Truth Table:\")\n",
    "df_NN = pd.DataFrame([[93, 0],[6, 1]], index = pd.Index(['NN Bird','NN Person']), columns = pd.Index(['True Bird', 'True Person']))\n",
    "df_NN.style"
   ]
  },
  {
   "cell_type": "code",
   "execution_count": 4,
   "id": "227e75d4-7319-48b2-a9d0-e7a83823ce27",
   "metadata": {},
   "outputs": [
    {
     "name": "stdout",
     "output_type": "stream",
     "text": [
      "New NA Truth Table:\n"
     ]
    },
    {
     "data": {
      "text/html": [
       "<style  type=\"text/css\" >\n",
       "</style><table id=\"T_bc3a5_\" ><thead>    <tr>        <th class=\"blank level0\" ></th>        <th class=\"col_heading level0 col0\" >True Bird</th>        <th class=\"col_heading level0 col1\" >True Person</th>    </tr></thead><tbody>\n",
       "                <tr>\n",
       "                        <th id=\"T_bc3a5_level0_row0\" class=\"row_heading level0 row0\" >NA Bird</th>\n",
       "                        <td id=\"T_bc3a5_row0_col0\" class=\"data row0 col0\" >96</td>\n",
       "                        <td id=\"T_bc3a5_row0_col1\" class=\"data row0 col1\" >0</td>\n",
       "            </tr>\n",
       "            <tr>\n",
       "                        <th id=\"T_bc3a5_level0_row1\" class=\"row_heading level0 row1\" >NA Person</th>\n",
       "                        <td id=\"T_bc3a5_row1_col0\" class=\"data row1 col0\" >2</td>\n",
       "                        <td id=\"T_bc3a5_row1_col1\" class=\"data row1 col1\" >1</td>\n",
       "            </tr>\n",
       "    </tbody></table>"
      ],
      "text/plain": [
       "<pandas.io.formats.style.Styler at 0x7f3ab7f3ff10>"
      ]
     },
     "execution_count": 4,
     "metadata": {},
     "output_type": "execute_result"
    }
   ],
   "source": [
    "print(\"New NA Truth Table:\")\n",
    "df_NN = pd.DataFrame([[96, 0],[2, 1]], index = pd.Index(['NA Bird','NA Person']), columns = pd.Index(['True Bird', 'True Person']))\n",
    "df_NN.style"
   ]
  },
  {
   "cell_type": "markdown",
   "id": "b5eb0e24-be14-4e87-a063-6dd133ddce3e",
   "metadata": {},
   "source": [
    "# Problem 2\n",
    "\n",
    "The pdf of the sum of two (identical) exponential distributions is an Erlang distribution, which is then a special case of the gamma distribution (Wikipedia).\n",
    "<br><br>\n",
    "The pdf of the ratio of two zero-mean unity variance Gaussians is the standard Cauchy distribution (Wikipedia).\n",
    "<br><br>\n",
    "The amplitude of a 2D Gaussian ($Z = (X^{2} + Y^{2})^{1/2}$, where X and Y are Gaussian distributions) is a Rayleigh distribution (Wikipedia)."
   ]
  },
  {
   "cell_type": "code",
   "execution_count": null,
   "id": "c9e6ba49-3f6c-4901-b75c-5c467dd043c8",
   "metadata": {},
   "outputs": [],
   "source": []
  }
 ],
 "metadata": {
  "kernelspec": {
   "display_name": "Python 3",
   "language": "python",
   "name": "python3"
  },
  "language_info": {
   "codemirror_mode": {
    "name": "ipython",
    "version": 3
   },
   "file_extension": ".py",
   "mimetype": "text/x-python",
   "name": "python",
   "nbconvert_exporter": "python",
   "pygments_lexer": "ipython3",
   "version": "3.8.8"
  }
 },
 "nbformat": 4,
 "nbformat_minor": 5
}
