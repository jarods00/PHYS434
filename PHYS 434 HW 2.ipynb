{
 "cells": [
  {
   "cell_type": "markdown",
   "id": "409995c6-205c-405e-959b-f161a397d254",
   "metadata": {},
   "source": [
    "# Question 1\n",
    "\n",
    "Ways to get 2: (1 + 1) <br>\n",
    "Ways to get 7: (1 + 6) (2 + 5) (3 + 4) (4 + 3) (5 + 2) (6 + 1)\n",
    "\n",
    "7 is more probable. <br>\n",
    "Ratio of probabilities is 1:6"
   ]
  },
  {
   "cell_type": "code",
   "execution_count": null,
   "id": "0d56d56c-6d34-4771-af18-f744ed0a7b5f",
   "metadata": {},
   "outputs": [],
   "source": []
  }
 ],
 "metadata": {
  "kernelspec": {
   "display_name": "Python 3",
   "language": "python",
   "name": "python3"
  },
  "language_info": {
   "codemirror_mode": {
    "name": "ipython",
    "version": 3
   },
   "file_extension": ".py",
   "mimetype": "text/x-python",
   "name": "python",
   "nbconvert_exporter": "python",
   "pygments_lexer": "ipython3",
   "version": "3.8.8"
  }
 },
 "nbformat": 4,
 "nbformat_minor": 5
}
