{
 "cells": [
  {
   "cell_type": "code",
   "execution_count": 1,
   "id": "852bb955-1fd8-49ec-9224-b1f7d8866254",
   "metadata": {},
   "outputs": [],
   "source": [
    "import numpy as np\n",
    "import matplotlib\n",
    "import matplotlib.pyplot as plt\n",
    "import scipy\n",
    "from scipy import stats"
   ]
  },
  {
   "cell_type": "markdown",
   "id": "f0b36734-2039-4bf0-9f52-eb5242ec737a",
   "metadata": {},
   "source": [
    "# Statistics"
   ]
  },
  {
   "cell_type": "code",
   "execution_count": 2,
   "id": "f08db68c-955e-4296-8d0b-8d843da97358",
   "metadata": {},
   "outputs": [
    {
     "data": {
      "text/plain": [
       "0.5753454347347955"
      ]
     },
     "execution_count": 2,
     "metadata": {},
     "output_type": "execute_result"
    }
   ],
   "source": [
    "mean = 0\n",
    "sigma = 1\n",
    "\n",
    "val = 0.19\n",
    "stats.norm.cdf(val, loc = mean, scale = sigma)\n",
    "\n",
    "# Answer is the number you find on a Z table, i.e. look up 0.19 on the sigma (column/row headers) to get the probability .5735.\n",
    "# This answer is the probability associated with 0.19 sigma."
   ]
  },
  {
   "cell_type": "code",
   "execution_count": 3,
   "id": "33eb3be6-0e6d-4d87-bcc4-9fc1cbd269c5",
   "metadata": {
    "tags": []
   },
   "outputs": [
    {
     "data": {
      "text/plain": [
       "0.9505285319663519"
      ]
     },
     "execution_count": 3,
     "metadata": {},
     "output_type": "execute_result"
    }
   ],
   "source": [
    "val = 1.65\n",
    "stats.norm.cdf(val, loc = mean, scale = sigma)"
   ]
  },
  {
   "cell_type": "code",
   "execution_count": 4,
   "id": "cbb5e13f-09be-49c6-81c6-2f8323eb6f9c",
   "metadata": {},
   "outputs": [
    {
     "data": {
      "text/plain": [
       "0.6330717360360281"
      ]
     },
     "execution_count": 4,
     "metadata": {},
     "output_type": "execute_result"
    }
   ],
   "source": [
    "val = .34\n",
    "stats.norm.cdf(val, loc = mean, scale = sigma)"
   ]
  },
  {
   "cell_type": "code",
   "execution_count": 5,
   "id": "831c2935-69db-42b6-97fd-a89bf610ba05",
   "metadata": {},
   "outputs": [
    {
     "data": {
      "text/plain": [
       "-0.4399131656732338"
      ]
     },
     "execution_count": 5,
     "metadata": {},
     "output_type": "execute_result"
    }
   ],
   "source": [
    "percent = .33\n",
    "stats.norm.ppf(percent, loc = mean, scale = sigma)\n",
    "\n",
    "# Answer is the value you \"input\" from a Z table, i.e. look up -.44 for sigma associated with .33 probability.\n",
    "# This answer is the sigma associated with .33 probability."
   ]
  },
  {
   "cell_type": "code",
   "execution_count": 6,
   "id": "a53da35f-1f6f-4550-b463-8c977460f6d6",
   "metadata": {},
   "outputs": [
    {
     "data": {
      "text/plain": [
       "0.18529201588789962"
      ]
     },
     "execution_count": 6,
     "metadata": {},
     "output_type": "execute_result"
    }
   ],
   "source": [
    "percent = .5735\n",
    "stats.norm.ppf(percent, loc = mean, scale = sigma)\n",
    "\n",
    "# This is the inverse of the first operation (cdf on a value of 0.19)."
   ]
  },
  {
   "cell_type": "markdown",
   "id": "029a3de8-d8a3-49c8-9f3c-78154b2e2d06",
   "metadata": {},
   "source": [
    "### Rayleigh Distribution"
   ]
  },
  {
   "cell_type": "code",
   "execution_count": 7,
   "id": "2ff72a29-83dc-4625-8424-60b2a3919284",
   "metadata": {},
   "outputs": [
    {
     "data": {
      "image/png": "[encoded data removed]",
      "text/plain": [
       "<Figure size 432x288 with 1 Axes>"
      ]
     },
     "metadata": {
      "needs_background": "light"
     },
     "output_type": "display_data"
    }
   ],
   "source": [
    "points = stats.rayleigh.rvs(loc = 0, scale = 0.01, size = 100000)\n",
    "\n",
    "fig, ax = plt.subplots(1, 1)\n",
    "ax.hist(points, 50, density = True)\n",
    "plt.xlim([0, .05])\n",
    "x = np.linspace(0, .05, 1000)\n",
    "\n",
    "plt.tick_params(labelsize = 12)\n",
    "ax.set_ylabel(\"Occurrences (Density)\", fontsize = 12)\n",
    "ax.set_xlabel(\"Value\", fontsize = 12)\n",
    "\n",
    "ax.plot(x, stats.rayleigh.pdf(x, loc = 0, scale = .01), linewidth = 9, alpha = .7)\n",
    "plt.show()"
   ]
  },
  {
   "cell_type": "markdown",
   "id": "40c4ecfe-2184-4517-9d09-da773230c080",
   "metadata": {},
   "source": [
    "Statistical Question: What is the chance that the data at the value \n",
    "I am looking for a signal at (.028) is due to random variations \n",
    "as opposed to a real signal?\n",
    "\n",
    "Method:<br>\n",
    "Integrate Rayleigh pdf from hypothetical value to infinity- $ P(x) =  \\int_{0.28}^{\\infty} pdf(x)\\,dx $. Alternatively, could do $ P(x) = 1 - \\int_{-\\infty}^{0.28} pdf(x)\\,dx $ due to normalization.<br>\n",
    "Then compare to Xσ from normal distribution."
   ]
  },
  {
   "cell_type": "code",
   "execution_count": 8,
   "id": "e33b8186-9647-44de-b6d0-fd0d819f392b",
   "metadata": {},
   "outputs": [
    {
     "data": {
      "text/plain": [
       "0.019841094744370347"
      ]
     },
     "execution_count": 8,
     "metadata": {},
     "output_type": "execute_result"
    }
   ],
   "source": [
    "hyp_val = .028\n",
    "\n",
    "prob = 1 - stats.rayleigh.cdf(hyp_val, loc = 0, scale = 0.01)\n",
    "prob"
   ]
  },
  {
   "cell_type": "markdown",
   "id": "f4495b1a-3fd3-445f-8a68-0cb3d3934617",
   "metadata": {},
   "source": [
    "To get the corresponding Xσ, we use the ppf function from earlier on the *normal* distribution function using the *rayleigh* probability found above."
   ]
  },
  {
   "cell_type": "code",
   "execution_count": 9,
   "id": "1ab8b8ad-5241-4afe-8d7d-3200ca8c5c77",
   "metadata": {},
   "outputs": [
    {
     "name": "stdout",
     "output_type": "stream",
     "text": [
      "-2.057041963792887\n"
     ]
    }
   ],
   "source": [
    "sigma = stats.norm.ppf(prob, loc = 0, scale = 1)\n",
    "print(sigma)"
   ]
  },
  {
   "cell_type": "code",
   "execution_count": 10,
   "id": "cb81d443-faf4-4c34-84f2-ff88948e4731",
   "metadata": {},
   "outputs": [
    {
     "name": "stdout",
     "output_type": "stream",
     "text": [
      "0.6065306597126334\n",
      "0.27028802073873587\n"
     ]
    }
   ],
   "source": [
    "hyp_val = .01\n",
    "\n",
    "prob = 1 - stats.rayleigh.cdf(hyp_val, loc = 0, scale = 0.01)\n",
    "print(prob)\n",
    "\n",
    "sigma = stats.norm.ppf(prob, loc = 0, scale = 1)\n",
    "print(sigma)"
   ]
  },
  {
   "cell_type": "code",
   "execution_count": 11,
   "id": "28dab91a-8350-42f5-b7cf-ae85813e10bc",
   "metadata": {},
   "outputs": [
    {
     "name": "stdout",
     "output_type": "stream",
     "text": [
      "0.1175030974154046\n",
      "-1.1875615473802972\n"
     ]
    }
   ],
   "source": [
    "hyp_val = .005\n",
    "\n",
    "prob = stats.rayleigh.cdf(hyp_val, loc = 0, scale = 0.01)\n",
    "print(prob)\n",
    "\n",
    "sigma = stats.norm.ppf(prob, loc = 0, scale = 1)\n",
    "print(sigma)"
   ]
  },
  {
   "cell_type": "markdown",
   "id": "7af17d89-c0db-4636-a522-b4db4fd6faed",
   "metadata": {},
   "source": [
    "As measurements get farther from the locus of the distribution, they get less likely, although in decreasing magnitude.<br>\n",
    "Negative signs come from the fact that opposite sides of the Gaussian are equally as likely but in opposite directions, i.e. above you can go 2σ above or below the mean, but the deviation from the mean on the below side is negative, whereas it is positive on the above side."
   ]
  },
  {
   "cell_type": "markdown",
   "id": "c8cbb57f-c344-44fd-9daf-b71dead31c4c",
   "metadata": {},
   "source": [
    "# Non-continuous distributions\n",
    "### Binomial Distribution"
   ]
  },
  {
   "cell_type": "code",
   "execution_count": 12,
   "id": "a47bb2d8-fd97-43aa-8121-4fb6b0bba466",
   "metadata": {},
   "outputs": [
    {
     "data": {
      "text/plain": [
       "[<matplotlib.lines.Line2D at 0x7f03fb5a42e0>]"
      ]
     },
     "execution_count": 12,
     "metadata": {},
     "output_type": "execute_result"
    },
    {
     "data": {
      "image/png": "[encoded data removed]",
      "text/plain": [
       "<Figure size 432x288 with 1 Axes>"
      ]
     },
     "metadata": {
      "needs_background": "light"
     },
     "output_type": "display_data"
    }
   ],
   "source": [
    "k = 2\n",
    "p = .6\n",
    "\n",
    "fig, ax = plt.subplots(1, 1)\n",
    "x = np.arange(0,50, 0.5)\n",
    "y = stats.binom.pmf(k, x, p, loc = -10)\n",
    "\n",
    "plt.tick_params(labelsize = 12)\n",
    "ax.set_ylabel('Probability', fontsize = 12)\n",
    "ax.set_xlabel('Value', fontsize = 12)\n",
    "\n",
    "ax.plot(x,y, 'bo')\n",
    "\n",
    "# Peak near \"center\", leans towards the right side (faster fall off on left)."
   ]
  },
  {
   "cell_type": "code",
   "execution_count": 13,
   "id": "73cd76bc-e419-489c-a682-2d8d145e7e16",
   "metadata": {},
   "outputs": [
    {
     "data": {
      "text/plain": [
       "[<matplotlib.lines.Line2D at 0x7f03fb50ca60>]"
      ]
     },
     "execution_count": 13,
     "metadata": {},
     "output_type": "execute_result"
    },
    {
     "data": {
      "image/png": "[encoded data removed]",
      "text/plain": [
       "<Figure size 432x288 with 1 Axes>"
      ]
     },
     "metadata": {
      "needs_background": "light"
     },
     "output_type": "display_data"
    }
   ],
   "source": [
    "k = 2\n",
    "p = .1\n",
    "\n",
    "fig, ax = plt.subplots(1, 1)\n",
    "x = np.arange(0, 50, 0.5)\n",
    "y = stats.binom.pmf(k, x, p, loc = 0)\n",
    "\n",
    "plt.tick_params(labelsize = 12)\n",
    "ax.set_ylabel('Probability', fontsize = 12)\n",
    "ax.set_xlabel('Value', fontsize = 12)\n",
    "\n",
    "ax.plot(x,y, 'bo')\n",
    "\n",
    "# Much more antisymmetric than the first one, this is due to being more \"zoomed in\" on the central area. If the domain was increased, then it would start to have more of a peak like the first one.\n",
    "# Notice the p value is different (along with loc)- lower p means more spread."
   ]
  },
  {
   "cell_type": "code",
   "execution_count": 14,
   "id": "9c5f69f3-e596-4e19-8f3b-42bd2f7578a0",
   "metadata": {},
   "outputs": [
    {
     "data": {
      "text/plain": [
       "[<matplotlib.lines.Line2D at 0x7f03fb4f8160>]"
      ]
     },
     "execution_count": 14,
     "metadata": {},
     "output_type": "execute_result"
    },
    {
     "data": {
      "image/png": "[encoded data removed]",
      "text/plain": [
       "<Figure size 432x288 with 1 Axes>"
      ]
     },
     "metadata": {
      "needs_background": "light"
     },
     "output_type": "display_data"
    }
   ],
   "source": [
    "k = 1\n",
    "p = .1\n",
    "\n",
    "fig, ax = plt.subplots(1, 1)\n",
    "x = np.arange(0, 50, 0.5)\n",
    "y = stats.binom.pmf(k, x, p, loc = 0)\n",
    "\n",
    "plt.tick_params(labelsize = 12)\n",
    "ax.set_ylabel('Probability', fontsize = 12)\n",
    "ax.set_xlabel('Value', fontsize = 12)\n",
    "\n",
    "ax.plot(x,y, 'bo')\n",
    "\n",
    "# Similar to last plot, but highest probable value shifted left- notice k value is lower here. "
   ]
  },
  {
   "cell_type": "code",
   "execution_count": 15,
   "id": "41f30da3-4816-4658-81bd-7931c4809cd0",
   "metadata": {},
   "outputs": [
    {
     "data": {
      "text/plain": [
       "[<matplotlib.lines.Line2D at 0x7f03fb4618e0>]"
      ]
     },
     "execution_count": 15,
     "metadata": {},
     "output_type": "execute_result"
    },
    {
     "data": {
      "image/png": "[encoded data removed]",
      "text/plain": [
       "<Figure size 432x288 with 1 Axes>"
      ]
     },
     "metadata": {
      "needs_background": "light"
     },
     "output_type": "display_data"
    }
   ],
   "source": [
    "# Recreating first binomial plot\n",
    "\n",
    "k = 2\n",
    "p = .6\n",
    "\n",
    "fig, ax = plt.subplots(1, 1)\n",
    "x = np.arange(0,50, 0.5)\n",
    "y = stats.binom.pmf(k, x, p, loc = -10)\n",
    "\n",
    "plt.tick_params(labelsize = 12)\n",
    "ax.set_ylabel('Probability', fontsize = 12)\n",
    "ax.set_xlabel('Value', fontsize = 12)\n",
    "\n",
    "ax.plot(x,y, 'bo')"
   ]
  },
  {
   "cell_type": "markdown",
   "id": "70599db7-cda3-434b-b0b4-03d292e233e9",
   "metadata": {},
   "source": [
    "Statistical Question: What is the chance that a value of 30 or higher is due to random chance as opposed to a signal?\n",
    "Method: Sum probabilities of all values above the test value of 30."
   ]
  },
  {
   "cell_type": "code",
   "execution_count": 16,
   "id": "beb80127-c734-43d5-8c41-0285c53f870d",
   "metadata": {},
   "outputs": [
    {
     "name": "stdout",
     "output_type": "stream",
     "text": [
      "0.021239876109960594\n",
      "-2.028789333210327\n"
     ]
    }
   ],
   "source": [
    "prob = stats.binom.cdf(k, 30, p, loc = -10)\n",
    "sigma = stats.norm.ppf(prob, loc = 0, scale = 1)\n",
    "print(prob)\n",
    "print(sigma)"
   ]
  },
  {
   "cell_type": "markdown",
   "id": "bd3ca1fa-5f26-4b61-8cfd-4b17d7b0f59c",
   "metadata": {},
   "source": [
    "Probabilities of all observed values of discrete, and the observed values themselves are discrete, so finding the probability above or below a certain point (where the integral from before has now become a sum of everything past the test point) will also be discrete. Hence the sigmas following from these values are discrete- they have to follow whatever probability is found. With continuous distributions you had a histogram which was matched with a continuous function that could have the same probability for a few observed values (because all of these observed values were fit in the same bin if they were close enough). With non-continuous distributions you should know exactly where the value belongs (because there is only certain allowed values), so you should be able to get a better idea of exactly where your value is in terms of its sigma.\n",
    "<br>\n",
    "The mean does not have to be one of the values observed because averaging gives the \"in betweens\" of observed values (e.g. the average of 1 and 2 is 1.5). Mean also does not change discretely in large data sets, because changing the number of occurrences of a single value will shift the mean based on that change, but as you increase the total number of occurrences, this shift becomes very small compared to the total, and so the mean moves nearly continuously between different values. This also means the standard deviation will be continuous because it is based off of the mean."
   ]
  },
  {
   "cell_type": "code",
   "execution_count": null,
   "id": "6a9d09ab-4e15-47ff-bec8-0fdead68b4e2",
   "metadata": {},
   "outputs": [],
   "source": []
  }
 ],
 "metadata": {
  "kernelspec": {
   "display_name": "Python 3",
   "language": "python",
   "name": "python3"
  },
  "language_info": {
   "codemirror_mode": {
    "name": "ipython",
    "version": 3
   },
   "file_extension": ".py",
   "mimetype": "text/x-python",
   "name": "python",
   "nbconvert_exporter": "python",
   "pygments_lexer": "ipython3",
   "version": "3.8.8"
  }
 },
 "nbformat": 4,
 "nbformat_minor": 5
}
